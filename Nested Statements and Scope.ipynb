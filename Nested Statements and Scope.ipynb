{
 "cells": [
  {
   "cell_type": "code",
   "execution_count": 1,
   "metadata": {},
   "outputs": [],
   "source": [
    "x = 25\n",
    "\n",
    "def printer():\n",
    "    x = 50\n",
    "    return x"
   ]
  },
  {
   "cell_type": "code",
   "execution_count": 2,
   "metadata": {},
   "outputs": [
    {
     "name": "stdout",
     "output_type": "stream",
     "text": [
      "25\n"
     ]
    }
   ],
   "source": [
    "print(x)"
   ]
  },
  {
   "cell_type": "code",
   "execution_count": 3,
   "metadata": {},
   "outputs": [
    {
     "name": "stdout",
     "output_type": "stream",
     "text": [
      "50\n"
     ]
    }
   ],
   "source": [
    "print(printer())"
   ]
  },
  {
   "cell_type": "markdown",
   "metadata": {},
   "source": [
    "Python VARIABLE PRIORITY"
   ]
  },
  {
   "cell_type": "markdown",
   "metadata": {},
   "source": [
    "LOCAL -- VARIABLES DECLARED AND ASSIGNED WITHIN A FUNCTION; NOT DECLARED GLOBAL.\n",
    "ENCLOSING -- NAMES IN THE LOCAL SCOPE A FUNCTION THAT ENCLOSES ANOTHER FUNCTION\n",
    "GLOBAL -- NAMES ASSIGNED AT THE TOP OF A MODULE FILE, OR DECLARED GLOBAL INSIDE A FUNCTION\n",
    "BUILT-IN -- BUILT IN PYTHON TERMS LIKE string, SyntaxError, etc"
   ]
  },
  {
   "cell_type": "code",
   "execution_count": 4,
   "metadata": {},
   "outputs": [
    {
     "data": {
      "text/plain": [
       "<function __main__.<lambda>(num)>"
      ]
     },
     "execution_count": 4,
     "metadata": {},
     "output_type": "execute_result"
    }
   ],
   "source": [
    "lambda num: num**2\n",
    "#Example of a LOCAL variable"
   ]
  },
  {
   "cell_type": "code",
   "execution_count": 10,
   "metadata": {},
   "outputs": [],
   "source": [
    "name = 'THIS IS A GLOBAL STRING'"
   ]
  },
  {
   "cell_type": "code",
   "execution_count": 11,
   "metadata": {},
   "outputs": [
    {
     "name": "stdout",
     "output_type": "stream",
     "text": [
      "Hello Sammy\n"
     ]
    }
   ],
   "source": [
    "def greet():\n",
    "    name = 'Sammy'\n",
    "    \n",
    "    def hello():\n",
    "        print(\"Hello \" + name)\n",
    "        \n",
    "    hello()\n",
    "    \n",
    "greet()\n",
    "\n",
    "#THIS IS AN EXAMPLE OF ENCLOSING FUNCTION VARIABLE PRIORITY. Notice def hello PULLS THE NAME VALUE FROM ITS ENCLOSING\n",
    "#FUNCTION, GREET, INSTEAD OF FROM name = 'THIS IS A GLOBAL STRING'"
   ]
  },
  {
   "cell_type": "code",
   "execution_count": 13,
   "metadata": {},
   "outputs": [
    {
     "name": "stdout",
     "output_type": "stream",
     "text": [
      "Hello THIS IS A GLOBAL STRING\n"
     ]
    }
   ],
   "source": [
    "def greet():\n",
    "    \n",
    "    def hello():\n",
    "        print(\"Hello \" + name)\n",
    "        \n",
    "    hello()\n",
    "    \n",
    "greet()\n",
    "\n",
    "#NOTICE HOW THIS TIME, WITH NAME=SAMMY REMOVED, IT USES THE GLOBALLY DEFINED STRING"
   ]
  },
  {
   "cell_type": "code",
   "execution_count": null,
   "metadata": {},
   "outputs": [],
   "source": []
  }
 ],
 "metadata": {
  "kernelspec": {
   "display_name": "Python 3",
   "language": "python",
   "name": "python3"
  },
  "language_info": {
   "codemirror_mode": {
    "name": "ipython",
    "version": 3
   },
   "file_extension": ".py",
   "mimetype": "text/x-python",
   "name": "python",
   "nbconvert_exporter": "python",
   "pygments_lexer": "ipython3",
   "version": "3.7.4"
  }
 },
 "nbformat": 4,
 "nbformat_minor": 2
}
