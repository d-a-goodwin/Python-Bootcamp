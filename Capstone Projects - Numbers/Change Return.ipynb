{
 "cells": [
  {
   "cell_type": "code",
   "execution_count": 1,
   "metadata": {},
   "outputs": [],
   "source": [
    "def change(n,p):\n",
    "    change = n - p\n",
    "    dollars = 0\n",
    "    while change >= 1:\n",
    "        change -= 1\n",
    "        dollars += 1\n",
    "    quarters = 0\n",
    "    while change >= 0.25:\n",
    "        change -= 0.25\n",
    "        quarters += 1\n",
    "    dimes = 0\n",
    "    while change >= 0.10:\n",
    "        change -= 0.10\n",
    "        dimes += 1\n",
    "    nickels = 0\n",
    "    while change >= 0.05:\n",
    "        change -= 0.05\n",
    "        nickels += 1\n",
    "    pennies = 0\n",
    "    while change >= 0.01:\n",
    "        change -= 0.01\n",
    "        pennies += 1\n",
    "    \n",
    "    print(\"You received {} dollars, {} quarters, {} dimes, {} nickels and {} pennies\".format(dollars, quarters, dimes, nickels, pennies))\n"
   ]
  },
  {
   "cell_type": "code",
   "execution_count": 2,
   "metadata": {},
   "outputs": [
    {
     "name": "stdout",
     "output_type": "stream",
     "text": [
      "how much does your item cost?50\n"
     ]
    }
   ],
   "source": [
    "p = int(input(\"how much does your item cost?\"))"
   ]
  },
  {
   "cell_type": "code",
   "execution_count": 3,
   "metadata": {},
   "outputs": [
    {
     "name": "stdout",
     "output_type": "stream",
     "text": [
      "You received 3 dollars, 1 quarters, 1 dimes, 0 nickels and 1 pennies\n"
     ]
    }
   ],
   "source": [
    "change(53.37, p)"
   ]
  },
  {
   "cell_type": "code",
   "execution_count": null,
   "metadata": {},
   "outputs": [],
   "source": []
  },
  {
   "cell_type": "code",
   "execution_count": null,
   "metadata": {},
   "outputs": [],
   "source": []
  }
 ],
 "metadata": {
  "kernelspec": {
   "display_name": "Python 3",
   "language": "python",
   "name": "python3"
  },
  "language_info": {
   "codemirror_mode": {
    "name": "ipython",
    "version": 3
   },
   "file_extension": ".py",
   "mimetype": "text/x-python",
   "name": "python",
   "nbconvert_exporter": "python",
   "pygments_lexer": "ipython3",
   "version": "3.7.4"
  }
 },
 "nbformat": 4,
 "nbformat_minor": 2
}
