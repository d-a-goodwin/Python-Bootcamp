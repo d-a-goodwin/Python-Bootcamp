{
 "cells": [
  {
   "cell_type": "code",
   "execution_count": 3,
   "metadata": {},
   "outputs": [],
   "source": [
    "class Coin():\n",
    "    \n",
    "    def __init__(self):\n",
    "        self.faces = ['heads', 'tails']\n",
    "        self.heads = 0\n",
    "        self.tails = 0\n",
    "    \n",
    "    def flip(self):\n",
    "        result = random.choice(self.faces)\n",
    "        if result == 'heads':\n",
    "            self.heads += 1\n",
    "            print(\"Heads!\")\n",
    "        else:\n",
    "            self.tails += 1\n",
    "            print(\"Tails!\")\n",
    "        print(\"Heads has hit \" + str(self.heads) + \" times.\")\n",
    "        print(\"Tails has hit \" + str(self.tails) + \" times.\")"
   ]
  },
  {
   "cell_type": "code",
   "execution_count": 2,
   "metadata": {},
   "outputs": [],
   "source": [
    "import random"
   ]
  },
  {
   "cell_type": "code",
   "execution_count": 4,
   "metadata": {},
   "outputs": [],
   "source": [
    "c = Coin()"
   ]
  },
  {
   "cell_type": "code",
   "execution_count": 5,
   "metadata": {},
   "outputs": [
    {
     "name": "stdout",
     "output_type": "stream",
     "text": [
      "Heads!\n",
      "Heads has hit 1 times.\n",
      "Tails has hit 0 times.\n"
     ]
    }
   ],
   "source": [
    "c.flip()"
   ]
  },
  {
   "cell_type": "code",
   "execution_count": 18,
   "metadata": {},
   "outputs": [
    {
     "name": "stdout",
     "output_type": "stream",
     "text": [
      "Heads!\n",
      "Heads has hit 8 times.\n",
      "Tails has hit 6 times.\n"
     ]
    }
   ],
   "source": [
    "c.flip()"
   ]
  },
  {
   "cell_type": "code",
   "execution_count": null,
   "metadata": {},
   "outputs": [],
   "source": []
  }
 ],
 "metadata": {
  "kernelspec": {
   "display_name": "Python 3",
   "language": "python",
   "name": "python3"
  },
  "language_info": {
   "codemirror_mode": {
    "name": "ipython",
    "version": 3
   },
   "file_extension": ".py",
   "mimetype": "text/x-python",
   "name": "python",
   "nbconvert_exporter": "python",
   "pygments_lexer": "ipython3",
   "version": "3.7.4"
  }
 },
 "nbformat": 4,
 "nbformat_minor": 2
}
