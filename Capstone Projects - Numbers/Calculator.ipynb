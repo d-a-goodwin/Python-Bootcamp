{
 "cells": [
  {
   "cell_type": "code",
   "execution_count": 15,
   "metadata": {},
   "outputs": [],
   "source": [
    "class Calculator():\n",
    "    \n",
    "    def __init__(self):\n",
    "        self.quantity = 0\n",
    "        \n",
    "        \n",
    "    def add(self):\n",
    "        a = True\n",
    "        while a == True:\n",
    "            entry = input(\"How much would you like to add? Enter 'q' to quit.\")\n",
    "            if entry == 'q':\n",
    "                a = False\n",
    "                break\n",
    "            else:\n",
    "                try:\n",
    "                    self.quantity += int(entry)\n",
    "                except ValueError:\n",
    "                    print(\"You can't enter a letter into the calculator.\")\n",
    "                finally:\n",
    "                    print(self.quantity)\n",
    "    \n",
    "    def clear(self):\n",
    "        self.quantity = 0\n",
    "        \n",
    "    def subtract(self):\n",
    "        a = True\n",
    "        while a == True:\n",
    "            entry = input(\"How much would you like to subtract? Enter 'q' to quit.\")\n",
    "            if entry == 'q':\n",
    "                a = False\n",
    "                break\n",
    "            else:\n",
    "                try:\n",
    "                    self.quantity -= int(entry)\n",
    "                except ValueError:\n",
    "                    print(\"You can't enter a letter into the calculator.\")\n",
    "                finally:\n",
    "                    print(self.quantity)\n",
    "                    \n",
    "    def multiply(self):\n",
    "        a = True\n",
    "        while a == True:\n",
    "            entry = input(\"How much would you like to multiply the current quantity by? Enter 'q' to quit.\")\n",
    "            if entry == 'q':\n",
    "                a = False\n",
    "                break\n",
    "            else:\n",
    "                try:\n",
    "                    self.quantity = self.quantity * int(entry)\n",
    "                except ValueError:\n",
    "                    print(\"You can't enter a letter into the calculator.\")\n",
    "                finally:\n",
    "                    print(self.quantity)\n",
    "                    \n",
    "    def divide(self):\n",
    "        a = True\n",
    "        while a == True:\n",
    "            entry = input(\"Enter your divisor.\")\n",
    "            if entry == 'q':\n",
    "                a = False\n",
    "                break\n",
    "            else:\n",
    "                try:\n",
    "                    self.quantity = self.quantity / int(entry)\n",
    "                except ValueError:\n",
    "                    print(\"You can't enter a letter into the calculator.\")\n",
    "                finally:\n",
    "                    print(self.quantity)"
   ]
  },
  {
   "cell_type": "code",
   "execution_count": 16,
   "metadata": {},
   "outputs": [],
   "source": [
    "c = Calculator()"
   ]
  },
  {
   "cell_type": "code",
   "execution_count": 17,
   "metadata": {},
   "outputs": [
    {
     "name": "stdout",
     "output_type": "stream",
     "text": [
      "How much would you like to add? Enter 'q' to quit.63\n",
      "63\n",
      "How much would you like to add? Enter 'q' to quit.27\n",
      "90\n",
      "How much would you like to add? Enter 'q' to quit.q\n"
     ]
    }
   ],
   "source": [
    "c.add()"
   ]
  },
  {
   "cell_type": "code",
   "execution_count": 18,
   "metadata": {},
   "outputs": [
    {
     "name": "stdout",
     "output_type": "stream",
     "text": [
      "How much would you like to subtract? Enter 'q' to quit.10\n",
      "80\n",
      "How much would you like to subtract? Enter 'q' to quit.q\n"
     ]
    }
   ],
   "source": [
    "c.subtract()"
   ]
  },
  {
   "cell_type": "code",
   "execution_count": 19,
   "metadata": {},
   "outputs": [
    {
     "name": "stdout",
     "output_type": "stream",
     "text": [
      "How much would you like to multiply the current quantity by? Enter 'q' to quit.3\n",
      "240\n",
      "How much would you like to multiply the current quantity by? Enter 'q' to quit.2\n",
      "480\n",
      "How much would you like to multiply the current quantity by? Enter 'q' to quit.q\n"
     ]
    }
   ],
   "source": [
    "c.multiply()"
   ]
  },
  {
   "cell_type": "code",
   "execution_count": 20,
   "metadata": {},
   "outputs": [
    {
     "name": "stdout",
     "output_type": "stream",
     "text": [
      "Enter your divisor.4\n",
      "120.0\n",
      "Enter your divisor.3\n",
      "40.0\n",
      "Enter your divisor.10\n",
      "4.0\n",
      "Enter your divisor.q\n"
     ]
    }
   ],
   "source": [
    "c.divide()"
   ]
  },
  {
   "cell_type": "code",
   "execution_count": null,
   "metadata": {},
   "outputs": [],
   "source": []
  }
 ],
 "metadata": {
  "kernelspec": {
   "display_name": "Python 3",
   "language": "python",
   "name": "python3"
  }
 },
 "nbformat": 4,
 "nbformat_minor": 2
}
