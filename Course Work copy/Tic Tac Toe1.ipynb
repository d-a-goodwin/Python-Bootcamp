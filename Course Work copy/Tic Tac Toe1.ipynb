{
 "cells": [
  {
   "cell_type": "code",
   "execution_count": 13,
   "metadata": {},
   "outputs": [],
   "source": [
    "def players():\n",
    "    marker = ''\n",
    "    \n",
    "    #Ask player 1 to choose X or O\n",
    "    while marker != 'X' and marker != 'O':\n",
    "        marker = input(\"Player 1, choose X or O: \")\n",
    "        \n",
    "    #Establish player 2\n",
    "    if marker == 'X':\n",
    "        return ('X', 'O')\n",
    "    else:\n",
    "        return ('O', 'X')\n",
    "        "
   ]
  },
  {
   "cell_type": "code",
   "execution_count": 14,
   "metadata": {},
   "outputs": [],
   "source": [
    "def print_board(board):\n",
    "    print(\" {} | {} | {} \".format(board[0], board[1], board[2]))\n",
    "    print(\"--------------\")\n",
    "    print(\" {} | {} | {} \".format(board[3], board[4], board[5]))\n",
    "    print(\"--------------\")\n",
    "    print(\" {} | {} | {} \".format(board[6], board[7], board[8]))"
   ]
  },
  {
   "cell_type": "code",
   "execution_count": 15,
   "metadata": {},
   "outputs": [
    {
     "name": "stdout",
     "output_type": "stream",
     "text": [
      " X | O | X \n",
      "--------------\n",
      "  |  | O \n",
      "--------------\n",
      " X | X | O \n"
     ]
    }
   ],
   "source": [
    "print_board(board=['X','O','X','', '', 'O', 'X', 'X', 'O'])"
   ]
  },
  {
   "cell_type": "markdown",
   "metadata": {},
   "source": [
    "# Need to get it to ask player 2 after asking player 1. Could migrate to play() so the loop continues"
   ]
  },
  {
   "cell_type": "code",
   "execution_count": 16,
   "metadata": {},
   "outputs": [],
   "source": [
    "def update_board(board, marker, position):\n",
    "    board[position-1] = marker"
   ]
  },
  {
   "cell_type": "code",
   "execution_count": 17,
   "metadata": {},
   "outputs": [],
   "source": [
    "def win_check(board,mark):\n",
    "    \n",
    "    return ((board[0] == mark and board[1] == mark and board[2] == mark) or # across the top\n",
    "    (board[3] == mark and board[4] == mark and board[5] == mark) or # across the middle\n",
    "    (board[6] == mark and board[7] == mark and board[8] == mark) or # across the bottom\n",
    "    (board[1] == mark and board[4] == mark and board[7] == mark) or # down the middle\n",
    "    (board[0] == mark and board[3] == mark and board[6] == mark) or # down the middle\n",
    "    (board[2] == mark and board[5] == mark and board[8] == mark) or # down the right side\n",
    "    (board[0] == mark and board[4] == mark and board[8] == mark) or # diagonal\n",
    "    (board[2] == mark and board[4] == mark and board[6] == mark)) # diagonal"
   ]
  },
  {
   "cell_type": "code",
   "execution_count": 18,
   "metadata": {},
   "outputs": [],
   "source": [
    "def space_check(board, position):\n",
    "    if board[position-1] != '':\n",
    "        return False\n",
    "    else:\n",
    "        return True\n",
    "        "
   ]
  },
  {
   "cell_type": "code",
   "execution_count": 19,
   "metadata": {},
   "outputs": [],
   "source": [
    "def full_board_check(board):\n",
    "    if '' not in board:\n",
    "        return True\n",
    "    else:\n",
    "        return False\n"
   ]
  },
  {
   "cell_type": "code",
   "execution_count": 20,
   "metadata": {},
   "outputs": [],
   "source": [
    "def move(board):\n",
    "    b = True\n",
    "    while b == True:\n",
    "        position = int(input(\"Where would you like to move?\"))\n",
    "        a = space_check(board, position)\n",
    "        if a == True:\n",
    "            return position\n",
    "            b = False\n",
    "        else:\n",
    "            print(\"You can't move there!\")\n",
    "            continue\n",
    "        "
   ]
  },
  {
   "cell_type": "code",
   "execution_count": 21,
   "metadata": {},
   "outputs": [],
   "source": [
    "def replay():\n",
    "    ans = input(\"Do you want to play again? Press Y for yes, and N for no. \")\n",
    "    return [ans]"
   ]
  },
  {
   "cell_type": "code",
   "execution_count": 27,
   "metadata": {},
   "outputs": [
    {
     "ename": "SyntaxError",
     "evalue": "'continue' not properly in loop (<ipython-input-27-1f454446aa01>, line 42)",
     "output_type": "error",
     "traceback": [
      "\u001b[0;36m  File \u001b[0;32m\"<ipython-input-27-1f454446aa01>\"\u001b[0;36m, line \u001b[0;32m42\u001b[0m\n\u001b[0;31mSyntaxError\u001b[0m\u001b[0;31m:\u001b[0m 'continue' not properly in loop\n"
     ]
    }
   ],
   "source": [
    "def game():\n",
    "    board = ['','','','','','','','','']\n",
    "    print(\"Welcome to tic tac toe!\")\n",
    "    print_board(board)\n",
    "    print(\"Choose your mark!\")\n",
    "    p1mark, p2mark = players()\n",
    "    turn = \"Player 1\"\n",
    "    active = True\n",
    "    while active == True:\n",
    "        if turn == \"Player 1\":\n",
    "            position = move(board)\n",
    "            update_board(board, p1mark, position)\n",
    "            print_board(board)\n",
    "            \n",
    "            if win_check(board, p1mark):\n",
    "                print(\"Player 1 wins!\")\n",
    "                active = False\n",
    "            else:\n",
    "                if full_board_check(board):\n",
    "                    active = False\n",
    "                else:\n",
    "                    turn = \"Player 2\"\n",
    "        else:\n",
    "            position = move(board)\n",
    "            update_board(board, p2mark, position)\n",
    "            print_board(board)\n",
    "\n",
    "            if win_check(board, p2mark):\n",
    "                print(\"Player 2 wins!\")\n",
    "                active = False\n",
    "            else:\n",
    "                if full_board_check(board):\n",
    "                    print(\"The board is full!\")\n",
    "                    active = False\n",
    "                else:\n",
    "                    turn = \"Player 1\"\n",
    "                    \n",
    "                    "
   ]
  },
  {
   "cell_type": "code",
   "execution_count": 25,
   "metadata": {},
   "outputs": [
    {
     "name": "stdout",
     "output_type": "stream",
     "text": [
      "Welcome to tic tac toe!\n",
      "  |  |  \n",
      "--------------\n",
      "  |  |  \n",
      "--------------\n",
      "  |  |  \n",
      "Choose your mark!\n",
      "Player 1, choose X or O: X\n",
      "Where would you like to move?2\n",
      "  | X |  \n",
      "--------------\n",
      "  |  |  \n",
      "--------------\n",
      "  |  |  \n",
      "Where would you like to move?3\n",
      "  | X | O \n",
      "--------------\n",
      "  |  |  \n",
      "--------------\n",
      "  |  |  \n",
      "Where would you like to move?4\n",
      "  | X | O \n",
      "--------------\n",
      " X |  |  \n",
      "--------------\n",
      "  |  |  \n",
      "Where would you like to move?5\n",
      "  | X | O \n",
      "--------------\n",
      " X | O |  \n",
      "--------------\n",
      "  |  |  \n",
      "Where would you like to move?6\n",
      "  | X | O \n",
      "--------------\n",
      " X | O | X \n",
      "--------------\n",
      "  |  |  \n",
      "Where would you like to move?3\n",
      "You can't move there!\n",
      "Where would you like to move?4\n",
      "You can't move there!\n",
      "Where would you like to move?8\n",
      "  | X | O \n",
      "--------------\n",
      " X | O | X \n",
      "--------------\n",
      "  | O |  \n",
      "Where would you like to move?9\n",
      "  | X | O \n",
      "--------------\n",
      " X | O | X \n",
      "--------------\n",
      "  | O | X \n",
      "Where would you like to move?7\n",
      "  | X | O \n",
      "--------------\n",
      " X | O | X \n",
      "--------------\n",
      " O | O | X \n",
      "Player 2 wins!\n"
     ]
    }
   ],
   "source": [
    "game()"
   ]
  },
  {
   "cell_type": "markdown",
   "metadata": {},
   "source": []
  },
  {
   "cell_type": "code",
   "execution_count": null,
   "metadata": {},
   "outputs": [],
   "source": []
  }
 ],
 "metadata": {
  "kernelspec": {
   "display_name": "Python 3",
   "language": "python",
   "name": "python3"
  },
  "language_info": {
   "codemirror_mode": {
    "name": "ipython",
    "version": 3
   },
   "file_extension": ".py",
   "mimetype": "text/x-python",
   "name": "python",
   "nbconvert_exporter": "python",
   "pygments_lexer": "ipython3",
   "version": "3.7.4"
  }
 },
 "nbformat": 4,
 "nbformat_minor": 2
}
