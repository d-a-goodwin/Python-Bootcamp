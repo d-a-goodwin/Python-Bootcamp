{
 "cells": [
  {
   "cell_type": "code",
   "execution_count": 23,
   "metadata": {},
   "outputs": [],
   "source": [
    "def bubble(nums):\n",
    "    for i in range(len(nums)-1,0,-1):\n",
    "        for j in range(i):\n",
    "            if nums[j] > nums[j+1]:\n",
    "                temp = nums[j]\n",
    "                nums[j] = nums[j+1]\n",
    "                nums[j+1] = temp\n",
    "                print(nums)\n",
    "                continue\n",
    "            else:\n",
    "                continue\n",
    "    return nums\n",
    "        "
   ]
  },
  {
   "cell_type": "code",
   "execution_count": 24,
   "metadata": {},
   "outputs": [],
   "source": [
    "nums = [7,4,10,12,8,3,6]"
   ]
  },
  {
   "cell_type": "code",
   "execution_count": 25,
   "metadata": {},
   "outputs": [
    {
     "name": "stdout",
     "output_type": "stream",
     "text": [
      "[4, 7, 10, 12, 8, 3, 6]\n",
      "[4, 7, 10, 8, 12, 3, 6]\n",
      "[4, 7, 10, 8, 3, 12, 6]\n",
      "[4, 7, 10, 8, 3, 6, 12]\n",
      "[4, 7, 8, 10, 3, 6, 12]\n",
      "[4, 7, 8, 3, 10, 6, 12]\n",
      "[4, 7, 8, 3, 6, 10, 12]\n",
      "[4, 7, 3, 8, 6, 10, 12]\n",
      "[4, 7, 3, 6, 8, 10, 12]\n",
      "[4, 3, 7, 6, 8, 10, 12]\n",
      "[4, 3, 6, 7, 8, 10, 12]\n",
      "[3, 4, 6, 7, 8, 10, 12]\n"
     ]
    },
    {
     "data": {
      "text/plain": [
       "[3, 4, 6, 7, 8, 10, 12]"
      ]
     },
     "execution_count": 25,
     "metadata": {},
     "output_type": "execute_result"
    }
   ],
   "source": [
    "bubble(nums)"
   ]
  },
  {
   "cell_type": "code",
   "execution_count": null,
   "metadata": {},
   "outputs": [],
   "source": []
  }
 ],
 "metadata": {
  "kernelspec": {
   "display_name": "Python 3",
   "language": "python",
   "name": "python3"
  },
  "language_info": {
   "codemirror_mode": {
    "name": "ipython",
    "version": 3
   },
   "file_extension": ".py",
   "mimetype": "text/x-python",
   "name": "python",
   "nbconvert_exporter": "python",
   "pygments_lexer": "ipython3",
   "version": "3.7.4"
  }
 },
 "nbformat": 4,
 "nbformat_minor": 2
}
