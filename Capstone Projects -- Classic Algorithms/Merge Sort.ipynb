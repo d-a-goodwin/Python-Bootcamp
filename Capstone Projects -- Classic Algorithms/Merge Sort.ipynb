{
 "cells": [
  {
   "cell_type": "code",
   "execution_count": 4,
   "metadata": {},
   "outputs": [],
   "source": [
    "import random"
   ]
  },
  {
   "cell_type": "code",
   "execution_count": 5,
   "metadata": {},
   "outputs": [],
   "source": [
    "def merge(nums0, nums1):\n",
    "    ret = []\n",
    "    while nums0 and nums1:\n",
    "        if nums0[0] <= nums1[0]:\n",
    "            ret.append(nums0.pop(0))\n",
    "        else:\n",
    "            ret.append(nums1.pop(0))\n",
    "    ret.extend(nums0)\n",
    "    ret.extend(nums1)\n",
    "    return ret"
   ]
  },
  {
   "cell_type": "code",
   "execution_count": 6,
   "metadata": {},
   "outputs": [],
   "source": [
    "def mergesort(nums):\n",
    "    if len(nums) <= 1:\n",
    "        return nums\n",
    "    #random to avoid dead loop for special sequence\n",
    "    r = nums[random.randint(0, len(nums)-1)]\n",
    "    left, mid, right = [], [], []\n",
    "    for i in nums:\n",
    "        if i < r:\n",
    "            left.append(i)\n",
    "        elif i == r:\n",
    "            mid.append(i)\n",
    "        else:\n",
    "            right.append(i)\n",
    "    left = mergesort(left)\n",
    "    left.extend(mid)\n",
    "    right = mergesort(right)\n",
    "    ret = merge(left, right)\n",
    "    return ret\n",
    "\n",
    "        "
   ]
  },
  {
   "cell_type": "code",
   "execution_count": 8,
   "metadata": {},
   "outputs": [],
   "source": [
    "nums = [10,7,14,12,21,18,75,53,36]"
   ]
  },
  {
   "cell_type": "code",
   "execution_count": 9,
   "metadata": {},
   "outputs": [
    {
     "data": {
      "text/plain": [
       "[7, 10, 12, 14, 18, 21, 36, 53, 75]"
      ]
     },
     "execution_count": 9,
     "metadata": {},
     "output_type": "execute_result"
    }
   ],
   "source": [
    "mergesort(nums)"
   ]
  },
  {
   "cell_type": "code",
   "execution_count": null,
   "metadata": {},
   "outputs": [],
   "source": []
  }
 ],
 "metadata": {
  "kernelspec": {
   "display_name": "Python 3",
   "language": "python",
   "name": "python3"
  },
  "language_info": {
   "codemirror_mode": {
    "name": "ipython",
    "version": 3
   },
   "file_extension": ".py",
   "mimetype": "text/x-python",
   "name": "python",
   "nbconvert_exporter": "python",
   "pygments_lexer": "ipython3",
   "version": "3.7.4"
  }
 },
 "nbformat": 4,
 "nbformat_minor": 2
}
